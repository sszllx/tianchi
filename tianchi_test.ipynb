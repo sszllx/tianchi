{
 "cells": [
  {
   "cell_type": "code",
   "execution_count": 2,
   "metadata": {},
   "outputs": [
    {
     "name": "stderr",
     "output_type": "stream",
     "text": [
      "/home/lijing/anaconda3/lib/python3.6/site-packages/h5py/__init__.py:36: FutureWarning: Conversion of the second argument of issubdtype from `float` to `np.floating` is deprecated. In future, it will be treated as `np.float64 == np.dtype(float).type`.\n",
      "  from ._conv import register_converters as _register_converters\n",
      "Using TensorFlow backend.\n",
      "/home/lijing/.local/lib/python3.6/site-packages/sklearn/cross_validation.py:41: DeprecationWarning: This module was deprecated in version 0.18 in favor of the model_selection module into which all the refactored classes and functions are moved. Also note that the interface of the new CV iterators are different from that of this module. This module will be removed in 0.20.\n",
      "  \"This module will be removed in 0.20.\", DeprecationWarning)\n"
     ]
    }
   ],
   "source": [
    "import pandas as pd\n",
    "import numpy as ny\n",
    "import sklearn as sk\n",
    "import xgboost as xgb\n",
    "import seaborn as sns\n",
    "import matplotlib.pyplot as plt\n",
    "from tools.data_tools import get_files, read_file\n",
    "\n",
    "from sklearn.ensemble import (RandomForestClassifier, AdaBoostClassifier, \n",
    "                              GradientBoostingClassifier, ExtraTreesClassifier)\n",
    "from sklearn.cross_validation import KFold\n"
   ]
  },
  {
   "cell_type": "code",
   "execution_count": 4,
   "metadata": {},
   "outputs": [],
   "source": [
    "g = get_files()"
   ]
  },
  {
   "cell_type": "code",
   "execution_count": 5,
   "metadata": {},
   "outputs": [
    {
     "data": {
      "text/plain": [
       "{'BalanceSheet-Bank.csv': '/home/lijing/.keras/fddc2018-01/BalanceSheet-Bank.csv',\n",
       " 'BalanceSheet-GeneralBusiness.csv': '/home/lijing/.keras/fddc2018-01/BalanceSheet-GeneralBusiness.csv',\n",
       " 'BalanceSheet-Insurance.csv': '/home/lijing/.keras/fddc2018-01/BalanceSheet-Insurance.csv',\n",
       " 'BalanceSheet-Securities.csv': '/home/lijing/.keras/fddc2018-01/BalanceSheet-Securities.csv',\n",
       " 'CashFlowStatement-Bank.csv': '/home/lijing/.keras/fddc2018-01/CashFlowStatement-Bank.csv',\n",
       " 'CashFlowStatement-GeneralBusiness.csv': '/home/lijing/.keras/fddc2018-01/CashFlowStatement-GeneralBusiness.csv',\n",
       " 'CashFlowStatement-Insurance.csv': '/home/lijing/.keras/fddc2018-01/CashFlowStatement-Insurance.csv',\n",
       " 'CashFlowStatement-Securities.csv': '/home/lijing/.keras/fddc2018-01/CashFlowStatement-Securities.csv',\n",
       " 'CompanyOperation.csv': '/home/lijing/.keras/fddc2018-01/CompanyOperation.csv',\n",
       " 'IncomeStatement-Bank.csv': '/home/lijing/.keras/fddc2018-01/IncomeStatement-Bank.csv',\n",
       " 'IncomeStatement-GeneralBusiness.csv': '/home/lijing/.keras/fddc2018-01/IncomeStatement-GeneralBusiness.csv',\n",
       " 'IncomeStatement-Insurance.csv': '/home/lijing/.keras/fddc2018-01/IncomeStatement-Insurance.csv',\n",
       " 'IncomeStatement-Securities.csv': '/home/lijing/.keras/fddc2018-01/IncomeStatement-Securities.csv',\n",
       " 'MacroIndustry.csv': '/home/lijing/.keras/fddc2018-01/MacroIndustry.csv',\n",
       " 'MarketData.csv': '/home/lijing/.keras/fddc2018-01/MarketData.csv'}"
      ]
     },
     "execution_count": 5,
     "metadata": {},
     "output_type": "execute_result"
    }
   ],
   "source": [
    "g"
   ]
  },
  {
   "cell_type": "code",
   "execution_count": 6,
   "metadata": {},
   "outputs": [],
   "source": [
    "def get_data(filename, flist, ticker_symbol, report_type):\n",
    "    dataframe = read_file(filename)\n",
    "    dataframe = dataframe[dataframe['TICKER_SYMBOL'] == ticker_symbol][flist].sort_values(by='END_DATE')\n",
    "    dataframe = dataframe.drop_duplicates('END_DATE', keep='last').reset_index(drop=True)\n",
    "    dataframe = dataframe[dataframe['REPORT_TYPE'] == report_type]\n",
    "    \n",
    "    return dataframe"
   ]
  },
  {
   "cell_type": "code",
   "execution_count": 37,
   "metadata": {},
   "outputs": [],
   "source": [
    "cfs_data = get_data('CashFlowStatement-GeneralBusiness.csv',\n",
    "                   ['TICKER_SYMBOL', 'REPORT_TYPE',\n",
    "                    'END_DATE', 'C_FR_SALE_G_S',\n",
    "                    'N_CHANGE_IN_CASH', 'N_CE_BEG_BAL', 'N_CE_END_BAL'],\n",
    "                    '000002', 'S1').reset_index(drop=True)\n",
    "bs_data = get_data('BalanceSheet-GeneralBusiness.csv',\n",
    "                  ['TICKER_SYMBOL', 'REPORT_TYPE',\n",
    "                   'END_DATE', 'CASH_C_EQUIV',\n",
    "                   'T_EQUITY_ATTR_P', 'MINORITY_INT', 'T_SH_EQUITY',\n",
    "                   'T_LIAB_EQUITY'],\n",
    "                   '000002', 'S1').reset_index(drop=True)\n",
    "is_data = get_data('IncomeStatement-GeneralBusiness.csv',\n",
    "                  ['TICKER_SYMBOL', 'END_DATE', 'REPORT_TYPE', 'REVENUE'],\n",
    "                  '000002', 'S1').reset_index(drop=True)"
   ]
  },
  {
   "cell_type": "code",
   "execution_count": 66,
   "metadata": {},
   "outputs": [
    {
     "data": {
      "text/html": [
       "<div>\n",
       "<style scoped>\n",
       "    .dataframe tbody tr th:only-of-type {\n",
       "        vertical-align: middle;\n",
       "    }\n",
       "\n",
       "    .dataframe tbody tr th {\n",
       "        vertical-align: top;\n",
       "    }\n",
       "\n",
       "    .dataframe thead th {\n",
       "        text-align: right;\n",
       "    }\n",
       "</style>\n",
       "<table border=\"1\" class=\"dataframe\">\n",
       "  <thead>\n",
       "    <tr style=\"text-align: right;\">\n",
       "      <th></th>\n",
       "      <th>C_FR_SALE_G_S</th>\n",
       "      <th>N_CHANGE_IN_CASH</th>\n",
       "      <th>N_CE_BEG_BAL</th>\n",
       "      <th>N_CE_END_BAL</th>\n",
       "      <th>CASH_C_EQUIV</th>\n",
       "      <th>T_EQUITY_ATTR_P</th>\n",
       "      <th>MINORITY_INT</th>\n",
       "      <th>T_SH_EQUITY</th>\n",
       "      <th>T_LIAB_EQUITY</th>\n",
       "    </tr>\n",
       "  </thead>\n",
       "  <tbody>\n",
       "    <tr>\n",
       "      <th>0</th>\n",
       "      <td>1.513991e+11</td>\n",
       "      <td>2.019314e+10</td>\n",
       "      <td>7.949001e+10</td>\n",
       "      <td>9.968316e+10</td>\n",
       "      <td>1.075632e+11</td>\n",
       "      <td>1.126407e+11</td>\n",
       "      <td>4.851710e+10</td>\n",
       "      <td>1.611578e+11</td>\n",
       "      <td>9.292659e+11</td>\n",
       "    </tr>\n",
       "  </tbody>\n",
       "</table>\n",
       "</div>"
      ],
      "text/plain": [
       "   C_FR_SALE_G_S  N_CHANGE_IN_CASH  N_CE_BEG_BAL  N_CE_END_BAL  CASH_C_EQUIV  \\\n",
       "0   1.513991e+11      2.019314e+10  7.949001e+10  9.968316e+10  1.075632e+11   \n",
       "\n",
       "   T_EQUITY_ATTR_P  MINORITY_INT   T_SH_EQUITY  T_LIAB_EQUITY  \n",
       "0     1.126407e+11  4.851710e+10  1.611578e+11   9.292659e+11  "
      ]
     },
     "execution_count": 66,
     "metadata": {},
     "output_type": "execute_result"
    }
   ],
   "source": [
    "\n",
    "test_data = cfs_data[9:].drop(['TICKER_SYMBOL', 'REPORT_TYPE', 'END_DATE'], axis=1).reset_index(drop=True)\n",
    "test_data = test_data.join(bs_data[8:].drop(['TICKER_SYMBOL', 'REPORT_TYPE', 'END_DATE'], axis=1).reset_index(drop=True))\n",
    "\n",
    "test_data"
   ]
  },
  {
   "cell_type": "code",
   "execution_count": 8,
   "metadata": {
    "scrolled": true
   },
   "outputs": [],
   "source": [
    "cfs_data = cfs_data.drop([0, 9]).reset_index(drop=True)\n",
    "is_data = is_data.drop([0, 9]).reset_index(drop=True)\n",
    "bs_data = bs_data.drop(8).reset_index(drop=True)"
   ]
  },
  {
   "cell_type": "code",
   "execution_count": 9,
   "metadata": {},
   "outputs": [],
   "source": [
    "# from 2008-06-30 ~ 2016-06-30\n",
    "y = is_data.drop(['TICKER_SYMBOL', 'END_DATE', 'REPORT_TYPE'], axis=1)"
   ]
  },
  {
   "cell_type": "code",
   "execution_count": 10,
   "metadata": {},
   "outputs": [
    {
     "data": {
      "text/html": [
       "<div>\n",
       "<style scoped>\n",
       "    .dataframe tbody tr th:only-of-type {\n",
       "        vertical-align: middle;\n",
       "    }\n",
       "\n",
       "    .dataframe tbody tr th {\n",
       "        vertical-align: top;\n",
       "    }\n",
       "\n",
       "    .dataframe thead th {\n",
       "        text-align: right;\n",
       "    }\n",
       "</style>\n",
       "<table border=\"1\" class=\"dataframe\">\n",
       "  <thead>\n",
       "    <tr style=\"text-align: right;\">\n",
       "      <th></th>\n",
       "      <th>C_FR_SALE_G_S</th>\n",
       "      <th>N_CHANGE_IN_CASH</th>\n",
       "      <th>N_CE_BEG_BAL</th>\n",
       "      <th>N_CE_END_BAL</th>\n",
       "      <th>CASH_C_EQUIV</th>\n",
       "      <th>T_EQUITY_ATTR_P</th>\n",
       "      <th>MINORITY_INT</th>\n",
       "      <th>T_SH_EQUITY</th>\n",
       "      <th>T_LIAB_EQUITY</th>\n",
       "      <th>REVENUE</th>\n",
       "    </tr>\n",
       "  </thead>\n",
       "  <tbody>\n",
       "    <tr>\n",
       "      <th>0</th>\n",
       "      <td>2.732685e+10</td>\n",
       "      <td>6.902138e+09</td>\n",
       "      <td>1.997829e+10</td>\n",
       "      <td>2.688042e+10</td>\n",
       "      <td>2.688042e+10</td>\n",
       "      <td>3.452127e+10</td>\n",
       "      <td>7.283670e+09</td>\n",
       "      <td>4.180494e+10</td>\n",
       "      <td>1.245199e+11</td>\n",
       "      <td>2.180865e+10</td>\n",
       "    </tr>\n",
       "    <tr>\n",
       "      <th>1</th>\n",
       "      <td>2.887052e+10</td>\n",
       "      <td>-4.003392e+09</td>\n",
       "      <td>2.200277e+10</td>\n",
       "      <td>1.799938e+10</td>\n",
       "      <td>1.911131e+10</td>\n",
       "      <td>3.977295e+10</td>\n",
       "      <td>8.646855e+09</td>\n",
       "      <td>4.841981e+10</td>\n",
       "      <td>1.605127e+11</td>\n",
       "      <td>1.676633e+10</td>\n",
       "    </tr>\n",
       "    <tr>\n",
       "      <th>2</th>\n",
       "      <td>5.040683e+10</td>\n",
       "      <td>4.949835e+09</td>\n",
       "      <td>3.509694e+10</td>\n",
       "      <td>4.004677e+10</td>\n",
       "      <td>4.077947e+10</td>\n",
       "      <td>4.620453e+10</td>\n",
       "      <td>1.160295e+10</td>\n",
       "      <td>5.780748e+10</td>\n",
       "      <td>2.609603e+11</td>\n",
       "      <td>1.998884e+10</td>\n",
       "    </tr>\n",
       "    <tr>\n",
       "      <th>3</th>\n",
       "      <td>4.816428e+10</td>\n",
       "      <td>1.210562e+10</td>\n",
       "      <td>3.361411e+10</td>\n",
       "      <td>4.571973e+10</td>\n",
       "      <td>4.701219e+10</td>\n",
       "      <td>5.509982e+10</td>\n",
       "      <td>1.473416e+10</td>\n",
       "      <td>6.983397e+10</td>\n",
       "      <td>3.304012e+11</td>\n",
       "      <td>3.072299e+10</td>\n",
       "    </tr>\n",
       "    <tr>\n",
       "      <th>4</th>\n",
       "      <td>6.722044e+10</td>\n",
       "      <td>-1.487271e+10</td>\n",
       "      <td>5.112022e+10</td>\n",
       "      <td>3.624751e+10</td>\n",
       "      <td>3.760363e+10</td>\n",
       "      <td>6.664463e+10</td>\n",
       "      <td>2.142085e+10</td>\n",
       "      <td>8.806548e+10</td>\n",
       "      <td>4.322420e+11</td>\n",
       "      <td>4.139035e+10</td>\n",
       "    </tr>\n",
       "    <tr>\n",
       "      <th>5</th>\n",
       "      <td>6.522281e+10</td>\n",
       "      <td>-1.291825e+09</td>\n",
       "      <td>4.300415e+10</td>\n",
       "      <td>4.171232e+10</td>\n",
       "      <td>4.286172e+10</td>\n",
       "      <td>7.688847e+10</td>\n",
       "      <td>2.883141e+10</td>\n",
       "      <td>1.057199e+11</td>\n",
       "      <td>5.017743e+11</td>\n",
       "      <td>4.096190e+10</td>\n",
       "    </tr>\n",
       "    <tr>\n",
       "      <th>6</th>\n",
       "      <td>7.571239e+10</td>\n",
       "      <td>-1.788279e+10</td>\n",
       "      <td>6.165332e+10</td>\n",
       "      <td>4.377053e+10</td>\n",
       "      <td>4.461256e+10</td>\n",
       "      <td>8.727269e+10</td>\n",
       "      <td>3.052716e+10</td>\n",
       "      <td>1.177999e+11</td>\n",
       "      <td>5.369376e+11</td>\n",
       "      <td>5.026680e+10</td>\n",
       "    </tr>\n",
       "    <tr>\n",
       "      <th>7</th>\n",
       "      <td>1.273494e+11</td>\n",
       "      <td>1.915959e+10</td>\n",
       "      <td>5.174762e+10</td>\n",
       "      <td>7.090721e+10</td>\n",
       "      <td>7.186799e+10</td>\n",
       "      <td>9.746073e+10</td>\n",
       "      <td>4.071332e+10</td>\n",
       "      <td>1.381740e+11</td>\n",
       "      <td>7.123067e+11</td>\n",
       "      <td>7.479529e+10</td>\n",
       "    </tr>\n",
       "  </tbody>\n",
       "</table>\n",
       "</div>"
      ],
      "text/plain": [
       "   C_FR_SALE_G_S  N_CHANGE_IN_CASH  N_CE_BEG_BAL  N_CE_END_BAL  CASH_C_EQUIV  \\\n",
       "0   2.732685e+10      6.902138e+09  1.997829e+10  2.688042e+10  2.688042e+10   \n",
       "1   2.887052e+10     -4.003392e+09  2.200277e+10  1.799938e+10  1.911131e+10   \n",
       "2   5.040683e+10      4.949835e+09  3.509694e+10  4.004677e+10  4.077947e+10   \n",
       "3   4.816428e+10      1.210562e+10  3.361411e+10  4.571973e+10  4.701219e+10   \n",
       "4   6.722044e+10     -1.487271e+10  5.112022e+10  3.624751e+10  3.760363e+10   \n",
       "5   6.522281e+10     -1.291825e+09  4.300415e+10  4.171232e+10  4.286172e+10   \n",
       "6   7.571239e+10     -1.788279e+10  6.165332e+10  4.377053e+10  4.461256e+10   \n",
       "7   1.273494e+11      1.915959e+10  5.174762e+10  7.090721e+10  7.186799e+10   \n",
       "\n",
       "   T_EQUITY_ATTR_P  MINORITY_INT   T_SH_EQUITY  T_LIAB_EQUITY       REVENUE  \n",
       "0     3.452127e+10  7.283670e+09  4.180494e+10   1.245199e+11  2.180865e+10  \n",
       "1     3.977295e+10  8.646855e+09  4.841981e+10   1.605127e+11  1.676633e+10  \n",
       "2     4.620453e+10  1.160295e+10  5.780748e+10   2.609603e+11  1.998884e+10  \n",
       "3     5.509982e+10  1.473416e+10  6.983397e+10   3.304012e+11  3.072299e+10  \n",
       "4     6.664463e+10  2.142085e+10  8.806548e+10   4.322420e+11  4.139035e+10  \n",
       "5     7.688847e+10  2.883141e+10  1.057199e+11   5.017743e+11  4.096190e+10  \n",
       "6     8.727269e+10  3.052716e+10  1.177999e+11   5.369376e+11  5.026680e+10  \n",
       "7     9.746073e+10  4.071332e+10  1.381740e+11   7.123067e+11  7.479529e+10  "
      ]
     },
     "execution_count": 10,
     "metadata": {},
     "output_type": "execute_result"
    }
   ],
   "source": [
    "# create train data\n",
    "\n",
    "train_data = cfs_data.drop(['TICKER_SYMBOL', 'REPORT_TYPE', 'END_DATE'], axis=1)\n",
    "# train_data = train_data.append(bs_data.drop(['TICKER_SYMBOL', 'REPORT_TYPE', 'END_DATE'], axis=1))\n",
    "train_data = train_data.join(bs_data.drop(['TICKER_SYMBOL', 'REPORT_TYPE', 'END_DATE'], axis=1))\n",
    "train_data = train_data.join(y)\n",
    "\n",
    "train_data"
   ]
  },
  {
   "cell_type": "code",
   "execution_count": null,
   "metadata": {},
   "outputs": [],
   "source": [
    "# colormap = plt.cm.RdBu\n",
    "# plt.figure(figsize=(14,12))\n",
    "# plt.title('Pearson Correlation of Features', y=1.05, size=15)\n",
    "# sns.heatmap(train_data.astype(float).corr(),linewidths=0.1,vmax=1.0, \n",
    "#             square=True, cmap=colormap, linecolor='white', annot=True)"
   ]
  },
  {
   "cell_type": "code",
   "execution_count": null,
   "metadata": {},
   "outputs": [],
   "source": [
    "y_train = train_data['REVENUE'].ravel()\n",
    "train = train_data.drop(['REVENUE'], axis=1)\n",
    "x_train = train.values # Creates an array of the train data\n",
    "x_test = test.values # Creats an array of the test data"
   ]
  }
 ],
 "metadata": {
  "kernelspec": {
   "display_name": "Python 3",
   "language": "python",
   "name": "python3"
  },
  "language_info": {
   "codemirror_mode": {
    "name": "ipython",
    "version": 3
   },
   "file_extension": ".py",
   "mimetype": "text/x-python",
   "name": "python",
   "nbconvert_exporter": "python",
   "pygments_lexer": "ipython3",
   "version": "3.6.5"
  }
 },
 "nbformat": 4,
 "nbformat_minor": 2
}
