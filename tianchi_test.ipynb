{
 "cells": [
  {
   "cell_type": "code",
   "execution_count": 30,
   "metadata": {},
   "outputs": [
    {
     "data": {
      "text/html": [
       "<script>requirejs.config({paths: { 'plotly': ['https://cdn.plot.ly/plotly-latest.min']},});if(!window.Plotly) {{require(['plotly'],function(plotly) {window.Plotly=plotly;});}}</script>"
      ],
      "text/vnd.plotly.v1+html": [
       "<script>requirejs.config({paths: { 'plotly': ['https://cdn.plot.ly/plotly-latest.min']},});if(!window.Plotly) {{require(['plotly'],function(plotly) {window.Plotly=plotly;});}}</script>"
      ]
     },
     "metadata": {},
     "output_type": "display_data"
    }
   ],
   "source": [
    "import warnings\n",
    "warnings.filterwarnings('ignore')\n",
    "\n",
    "import pandas as pd\n",
    "import numpy as np\n",
    "import sklearn as sk\n",
    "import xgboost as xgb\n",
    "import seaborn as sns\n",
    "import matplotlib.pyplot as plt\n",
    "%matplotlib inline\n",
    "\n",
    "from tools.data_tools import get_files, read_file\n",
    "\n",
    "from sklearn.ensemble import (RandomForestClassifier, AdaBoostClassifier, \n",
    "                              GradientBoostingClassifier, ExtraTreesClassifier)\n",
    "\n",
    "import plotly.offline as py\n",
    "py.init_notebook_mode(connected=True)\n",
    "import plotly.graph_objs as go\n",
    "import plotly.tools as tls\n",
    "\n",
    "\n",
    "from sklearn.svm import SVC\n"
   ]
  },
  {
   "cell_type": "code",
   "execution_count": 6,
   "metadata": {},
   "outputs": [
    {
     "name": "stdout",
     "output_type": "stream",
     "text": [
      "Downloading data from https://github.com/suzg/fddc2018-01-data/releases/download/20180529/BalanceSheet-Bank.tar.gz\n",
      "212992/205080 [===============================] - 2s 9us/step\n",
      "Downloading data from https://github.com/suzg/fddc2018-01-data/releases/download/20180529/BalanceSheet-GeneralBusiness.tar.gz\n",
      "50159616/50151942 [==============================] - 252s 5us/step\n",
      "Downloading data from https://github.com/suzg/fddc2018-01-data/releases/download/20180529/BalanceSheet-Insurance.tar.gz\n",
      "40960/35326 [==================================] - 1s 21us/step\n",
      "Downloading data from https://github.com/suzg/fddc2018-01-data/releases/download/20180529/BalanceSheet-Securities.tar.gz\n",
      "352256/346616 [==============================] - 3s 9us/step\n",
      "Downloading data from https://github.com/suzg/fddc2018-01-data/releases/download/20180529/CashFlowStatement-Bank.tar.gz\n",
      "229376/227831 [==============================] - 4s 18us/step\n",
      "Downloading data from https://github.com/suzg/fddc2018-01-data/releases/download/20180529/CashFlowStatement-GeneralBusiness.tar.gz\n",
      "20676608/20673677 [==============================] - 40s 2us/step\n",
      "Downloading data from https://github.com/suzg/fddc2018-01-data/releases/download/20180529/CashFlowStatement-Insurance.tar.gz\n",
      "32768/27792 [===================================] - 1s 21us/step\n",
      "Downloading data from https://github.com/suzg/fddc2018-01-data/releases/download/20180529/CashFlowStatement-Securities.tar.gz\n",
      "262144/258117 [==============================] - 3s 11us/step\n",
      "Downloading data from https://github.com/suzg/fddc2018-01-data/releases/download/20180529/CompanyOperation.tar.gz\n",
      "32768/26671 [====================================] - 1s 18us/step\n",
      "Downloading data from https://github.com/suzg/fddc2018-01-data/releases/download/20180529/IncomeStatement-Bank.tar.gz\n",
      "163840/161703 [==============================] - 2s 10us/step\n",
      "Downloading data from https://github.com/suzg/fddc2018-01-data/releases/download/20180529/IncomeStatement-GeneralBusiness.tar.gz\n",
      "28778496/28776483 [==============================] - 28s 1us/step\n",
      "Downloading data from https://github.com/suzg/fddc2018-01-data/releases/download/20180529/IncomeStatement-Insurance.tar.gz\n",
      "32768/30092 [================================] - 1s 22us/step\n",
      "Downloading data from https://github.com/suzg/fddc2018-01-data/releases/download/20180529/IncomeStatement-Securities.tar.gz\n",
      "270336/263684 [==============================] - 2s 7us/step\n",
      "Downloading data from https://github.com/suzg/fddc2018-01-data/releases/download/20180529/MacroIndustry.tar.gz\n",
      "286720/285718 [==============================] - 3s 9us/step\n",
      "Downloading data from https://github.com/suzg/fddc2018-01-data/releases/download/20180529/MarketData.tar.gz\n",
      "7733248/7729416 [==============================] - 18s 2us/step\n"
     ]
    }
   ],
   "source": [
    "g = get_files()"
   ]
  },
  {
   "cell_type": "code",
   "execution_count": 7,
   "metadata": {},
   "outputs": [
    {
     "data": {
      "text/plain": [
       "{'BalanceSheet-Bank.csv': '/home/lijing/.keras/fddc2018-01/BalanceSheet-Bank.csv',\n",
       " 'BalanceSheet-GeneralBusiness.csv': '/home/lijing/.keras/fddc2018-01/BalanceSheet-GeneralBusiness.csv',\n",
       " 'BalanceSheet-Insurance.csv': '/home/lijing/.keras/fddc2018-01/BalanceSheet-Insurance.csv',\n",
       " 'BalanceSheet-Securities.csv': '/home/lijing/.keras/fddc2018-01/BalanceSheet-Securities.csv',\n",
       " 'CashFlowStatement-Bank.csv': '/home/lijing/.keras/fddc2018-01/CashFlowStatement-Bank.csv',\n",
       " 'CashFlowStatement-GeneralBusiness.csv': '/home/lijing/.keras/fddc2018-01/CashFlowStatement-GeneralBusiness.csv',\n",
       " 'CashFlowStatement-Insurance.csv': '/home/lijing/.keras/fddc2018-01/CashFlowStatement-Insurance.csv',\n",
       " 'CashFlowStatement-Securities.csv': '/home/lijing/.keras/fddc2018-01/CashFlowStatement-Securities.csv',\n",
       " 'CompanyOperation.csv': '/home/lijing/.keras/fddc2018-01/CompanyOperation.csv',\n",
       " 'IncomeStatement-Bank.csv': '/home/lijing/.keras/fddc2018-01/IncomeStatement-Bank.csv',\n",
       " 'IncomeStatement-GeneralBusiness.csv': '/home/lijing/.keras/fddc2018-01/IncomeStatement-GeneralBusiness.csv',\n",
       " 'IncomeStatement-Insurance.csv': '/home/lijing/.keras/fddc2018-01/IncomeStatement-Insurance.csv',\n",
       " 'IncomeStatement-Securities.csv': '/home/lijing/.keras/fddc2018-01/IncomeStatement-Securities.csv',\n",
       " 'MacroIndustry.csv': '/home/lijing/.keras/fddc2018-01/MacroIndustry.csv',\n",
       " 'MarketData.csv': '/home/lijing/.keras/fddc2018-01/MarketData.csv'}"
      ]
     },
     "execution_count": 7,
     "metadata": {},
     "output_type": "execute_result"
    }
   ],
   "source": [
    "g"
   ]
  },
  {
   "cell_type": "code",
   "execution_count": 8,
   "metadata": {},
   "outputs": [],
   "source": [
    "def get_data(filename, flist, ticker_symbol, report_type):\n",
    "    dataframe = read_file(filename)\n",
    "    dataframe = dataframe[dataframe['TICKER_SYMBOL'] == ticker_symbol][flist].sort_values(by='END_DATE')\n",
    "    dataframe = dataframe.drop_duplicates('END_DATE', keep='last').reset_index(drop=True)\n",
    "    dataframe = dataframe[dataframe['REPORT_TYPE'] == report_type]\n",
    "    \n",
    "    return dataframe"
   ]
  },
  {
   "cell_type": "code",
   "execution_count": 9,
   "metadata": {},
   "outputs": [],
   "source": [
    "cfs_data = get_data('CashFlowStatement-GeneralBusiness.csv',\n",
    "                   ['TICKER_SYMBOL', 'REPORT_TYPE',\n",
    "                    'END_DATE', 'C_FR_SALE_G_S',\n",
    "                    'N_CHANGE_IN_CASH', 'N_CE_BEG_BAL', 'N_CE_END_BAL'],\n",
    "                    '000002', 'S1').reset_index(drop=True)\n",
    "bs_data = get_data('BalanceSheet-GeneralBusiness.csv',\n",
    "                  ['TICKER_SYMBOL', 'REPORT_TYPE',\n",
    "                   'END_DATE', 'CASH_C_EQUIV',\n",
    "                   'T_EQUITY_ATTR_P', 'MINORITY_INT', 'T_SH_EQUITY',\n",
    "                   'T_LIAB_EQUITY'],\n",
    "                   '000002', 'S1').reset_index(drop=True)\n",
    "is_data = get_data('IncomeStatement-GeneralBusiness.csv',\n",
    "                  ['TICKER_SYMBOL', 'END_DATE', 'REPORT_TYPE', 'REVENUE'],\n",
    "                  '000002', 'S1').reset_index(drop=True)"
   ]
  },
  {
   "cell_type": "code",
   "execution_count": 10,
   "metadata": {},
   "outputs": [
    {
     "data": {
      "text/html": [
       "<div>\n",
       "<style scoped>\n",
       "    .dataframe tbody tr th:only-of-type {\n",
       "        vertical-align: middle;\n",
       "    }\n",
       "\n",
       "    .dataframe tbody tr th {\n",
       "        vertical-align: top;\n",
       "    }\n",
       "\n",
       "    .dataframe thead th {\n",
       "        text-align: right;\n",
       "    }\n",
       "</style>\n",
       "<table border=\"1\" class=\"dataframe\">\n",
       "  <thead>\n",
       "    <tr style=\"text-align: right;\">\n",
       "      <th></th>\n",
       "      <th>C_FR_SALE_G_S</th>\n",
       "      <th>N_CHANGE_IN_CASH</th>\n",
       "      <th>N_CE_BEG_BAL</th>\n",
       "      <th>N_CE_END_BAL</th>\n",
       "      <th>CASH_C_EQUIV</th>\n",
       "      <th>T_EQUITY_ATTR_P</th>\n",
       "      <th>MINORITY_INT</th>\n",
       "      <th>T_SH_EQUITY</th>\n",
       "      <th>T_LIAB_EQUITY</th>\n",
       "    </tr>\n",
       "  </thead>\n",
       "  <tbody>\n",
       "    <tr>\n",
       "      <th>0</th>\n",
       "      <td>1.513991e+11</td>\n",
       "      <td>2.019314e+10</td>\n",
       "      <td>7.949001e+10</td>\n",
       "      <td>9.968316e+10</td>\n",
       "      <td>1.075632e+11</td>\n",
       "      <td>1.126407e+11</td>\n",
       "      <td>4.851710e+10</td>\n",
       "      <td>1.611578e+11</td>\n",
       "      <td>9.292659e+11</td>\n",
       "    </tr>\n",
       "  </tbody>\n",
       "</table>\n",
       "</div>"
      ],
      "text/plain": [
       "   C_FR_SALE_G_S  N_CHANGE_IN_CASH  N_CE_BEG_BAL  N_CE_END_BAL  CASH_C_EQUIV  \\\n",
       "0   1.513991e+11      2.019314e+10  7.949001e+10  9.968316e+10  1.075632e+11   \n",
       "\n",
       "   T_EQUITY_ATTR_P  MINORITY_INT   T_SH_EQUITY  T_LIAB_EQUITY  \n",
       "0     1.126407e+11  4.851710e+10  1.611578e+11   9.292659e+11  "
      ]
     },
     "execution_count": 10,
     "metadata": {},
     "output_type": "execute_result"
    }
   ],
   "source": [
    "\n",
    "test_data = cfs_data[9:].drop(['TICKER_SYMBOL', 'REPORT_TYPE', 'END_DATE'], axis=1).reset_index(drop=True)\n",
    "test_data = test_data.join(bs_data[8:].drop(['TICKER_SYMBOL', 'REPORT_TYPE', 'END_DATE'], axis=1).reset_index(drop=True))\n",
    "\n",
    "test_data"
   ]
  },
  {
   "cell_type": "code",
   "execution_count": 11,
   "metadata": {
    "scrolled": true
   },
   "outputs": [],
   "source": [
    "cfs_data = cfs_data.drop([0, 9]).reset_index(drop=True)\n",
    "is_data = is_data.drop([0, 9]).reset_index(drop=True)\n",
    "bs_data = bs_data.drop(8).reset_index(drop=True)"
   ]
  },
  {
   "cell_type": "code",
   "execution_count": 12,
   "metadata": {},
   "outputs": [],
   "source": [
    "# from 2008-06-30 ~ 2016-06-30\n",
    "y = is_data.drop(['TICKER_SYMBOL', 'END_DATE', 'REPORT_TYPE'], axis=1)"
   ]
  },
  {
   "cell_type": "code",
   "execution_count": 13,
   "metadata": {},
   "outputs": [
    {
     "data": {
      "text/html": [
       "<div>\n",
       "<style scoped>\n",
       "    .dataframe tbody tr th:only-of-type {\n",
       "        vertical-align: middle;\n",
       "    }\n",
       "\n",
       "    .dataframe tbody tr th {\n",
       "        vertical-align: top;\n",
       "    }\n",
       "\n",
       "    .dataframe thead th {\n",
       "        text-align: right;\n",
       "    }\n",
       "</style>\n",
       "<table border=\"1\" class=\"dataframe\">\n",
       "  <thead>\n",
       "    <tr style=\"text-align: right;\">\n",
       "      <th></th>\n",
       "      <th>C_FR_SALE_G_S</th>\n",
       "      <th>N_CHANGE_IN_CASH</th>\n",
       "      <th>N_CE_BEG_BAL</th>\n",
       "      <th>N_CE_END_BAL</th>\n",
       "      <th>CASH_C_EQUIV</th>\n",
       "      <th>T_EQUITY_ATTR_P</th>\n",
       "      <th>MINORITY_INT</th>\n",
       "      <th>T_SH_EQUITY</th>\n",
       "      <th>T_LIAB_EQUITY</th>\n",
       "      <th>REVENUE</th>\n",
       "    </tr>\n",
       "  </thead>\n",
       "  <tbody>\n",
       "    <tr>\n",
       "      <th>0</th>\n",
       "      <td>2.732685e+10</td>\n",
       "      <td>6.902138e+09</td>\n",
       "      <td>1.997829e+10</td>\n",
       "      <td>2.688042e+10</td>\n",
       "      <td>2.688042e+10</td>\n",
       "      <td>3.452127e+10</td>\n",
       "      <td>7.283670e+09</td>\n",
       "      <td>4.180494e+10</td>\n",
       "      <td>1.245199e+11</td>\n",
       "      <td>2.180865e+10</td>\n",
       "    </tr>\n",
       "    <tr>\n",
       "      <th>1</th>\n",
       "      <td>2.887052e+10</td>\n",
       "      <td>-4.003392e+09</td>\n",
       "      <td>2.200277e+10</td>\n",
       "      <td>1.799938e+10</td>\n",
       "      <td>1.911131e+10</td>\n",
       "      <td>3.977295e+10</td>\n",
       "      <td>8.646855e+09</td>\n",
       "      <td>4.841981e+10</td>\n",
       "      <td>1.605127e+11</td>\n",
       "      <td>1.676633e+10</td>\n",
       "    </tr>\n",
       "    <tr>\n",
       "      <th>2</th>\n",
       "      <td>5.040683e+10</td>\n",
       "      <td>4.949835e+09</td>\n",
       "      <td>3.509694e+10</td>\n",
       "      <td>4.004677e+10</td>\n",
       "      <td>4.077947e+10</td>\n",
       "      <td>4.620453e+10</td>\n",
       "      <td>1.160295e+10</td>\n",
       "      <td>5.780748e+10</td>\n",
       "      <td>2.609603e+11</td>\n",
       "      <td>1.998884e+10</td>\n",
       "    </tr>\n",
       "    <tr>\n",
       "      <th>3</th>\n",
       "      <td>4.816428e+10</td>\n",
       "      <td>1.210562e+10</td>\n",
       "      <td>3.361411e+10</td>\n",
       "      <td>4.571973e+10</td>\n",
       "      <td>4.701219e+10</td>\n",
       "      <td>5.509982e+10</td>\n",
       "      <td>1.473416e+10</td>\n",
       "      <td>6.983397e+10</td>\n",
       "      <td>3.304012e+11</td>\n",
       "      <td>3.072299e+10</td>\n",
       "    </tr>\n",
       "    <tr>\n",
       "      <th>4</th>\n",
       "      <td>6.722044e+10</td>\n",
       "      <td>-1.487271e+10</td>\n",
       "      <td>5.112022e+10</td>\n",
       "      <td>3.624751e+10</td>\n",
       "      <td>3.760363e+10</td>\n",
       "      <td>6.664463e+10</td>\n",
       "      <td>2.142085e+10</td>\n",
       "      <td>8.806548e+10</td>\n",
       "      <td>4.322420e+11</td>\n",
       "      <td>4.139035e+10</td>\n",
       "    </tr>\n",
       "    <tr>\n",
       "      <th>5</th>\n",
       "      <td>6.522281e+10</td>\n",
       "      <td>-1.291825e+09</td>\n",
       "      <td>4.300415e+10</td>\n",
       "      <td>4.171232e+10</td>\n",
       "      <td>4.286172e+10</td>\n",
       "      <td>7.688847e+10</td>\n",
       "      <td>2.883141e+10</td>\n",
       "      <td>1.057199e+11</td>\n",
       "      <td>5.017743e+11</td>\n",
       "      <td>4.096190e+10</td>\n",
       "    </tr>\n",
       "    <tr>\n",
       "      <th>6</th>\n",
       "      <td>7.571239e+10</td>\n",
       "      <td>-1.788279e+10</td>\n",
       "      <td>6.165332e+10</td>\n",
       "      <td>4.377053e+10</td>\n",
       "      <td>4.461256e+10</td>\n",
       "      <td>8.727269e+10</td>\n",
       "      <td>3.052716e+10</td>\n",
       "      <td>1.177999e+11</td>\n",
       "      <td>5.369376e+11</td>\n",
       "      <td>5.026680e+10</td>\n",
       "    </tr>\n",
       "    <tr>\n",
       "      <th>7</th>\n",
       "      <td>1.273494e+11</td>\n",
       "      <td>1.915959e+10</td>\n",
       "      <td>5.174762e+10</td>\n",
       "      <td>7.090721e+10</td>\n",
       "      <td>7.186799e+10</td>\n",
       "      <td>9.746073e+10</td>\n",
       "      <td>4.071332e+10</td>\n",
       "      <td>1.381740e+11</td>\n",
       "      <td>7.123067e+11</td>\n",
       "      <td>7.479529e+10</td>\n",
       "    </tr>\n",
       "  </tbody>\n",
       "</table>\n",
       "</div>"
      ],
      "text/plain": [
       "   C_FR_SALE_G_S  N_CHANGE_IN_CASH  N_CE_BEG_BAL  N_CE_END_BAL  CASH_C_EQUIV  \\\n",
       "0   2.732685e+10      6.902138e+09  1.997829e+10  2.688042e+10  2.688042e+10   \n",
       "1   2.887052e+10     -4.003392e+09  2.200277e+10  1.799938e+10  1.911131e+10   \n",
       "2   5.040683e+10      4.949835e+09  3.509694e+10  4.004677e+10  4.077947e+10   \n",
       "3   4.816428e+10      1.210562e+10  3.361411e+10  4.571973e+10  4.701219e+10   \n",
       "4   6.722044e+10     -1.487271e+10  5.112022e+10  3.624751e+10  3.760363e+10   \n",
       "5   6.522281e+10     -1.291825e+09  4.300415e+10  4.171232e+10  4.286172e+10   \n",
       "6   7.571239e+10     -1.788279e+10  6.165332e+10  4.377053e+10  4.461256e+10   \n",
       "7   1.273494e+11      1.915959e+10  5.174762e+10  7.090721e+10  7.186799e+10   \n",
       "\n",
       "   T_EQUITY_ATTR_P  MINORITY_INT   T_SH_EQUITY  T_LIAB_EQUITY       REVENUE  \n",
       "0     3.452127e+10  7.283670e+09  4.180494e+10   1.245199e+11  2.180865e+10  \n",
       "1     3.977295e+10  8.646855e+09  4.841981e+10   1.605127e+11  1.676633e+10  \n",
       "2     4.620453e+10  1.160295e+10  5.780748e+10   2.609603e+11  1.998884e+10  \n",
       "3     5.509982e+10  1.473416e+10  6.983397e+10   3.304012e+11  3.072299e+10  \n",
       "4     6.664463e+10  2.142085e+10  8.806548e+10   4.322420e+11  4.139035e+10  \n",
       "5     7.688847e+10  2.883141e+10  1.057199e+11   5.017743e+11  4.096190e+10  \n",
       "6     8.727269e+10  3.052716e+10  1.177999e+11   5.369376e+11  5.026680e+10  \n",
       "7     9.746073e+10  4.071332e+10  1.381740e+11   7.123067e+11  7.479529e+10  "
      ]
     },
     "execution_count": 13,
     "metadata": {},
     "output_type": "execute_result"
    }
   ],
   "source": [
    "# create train data\n",
    "\n",
    "train_data = cfs_data.drop(['TICKER_SYMBOL', 'REPORT_TYPE', 'END_DATE'], axis=1)\n",
    "# train_data = train_data.append(bs_data.drop(['TICKER_SYMBOL', 'REPORT_TYPE', 'END_DATE'], axis=1))\n",
    "train_data = train_data.join(bs_data.drop(['TICKER_SYMBOL', 'REPORT_TYPE', 'END_DATE'], axis=1))\n",
    "train_data = train_data.join(y)\n",
    "\n",
    "train_data"
   ]
  },
  {
   "cell_type": "code",
   "execution_count": null,
   "metadata": {},
   "outputs": [],
   "source": [
    "# colormap = plt.cm.RdBu\n",
    "# plt.figure(figsize=(14,12))\n",
    "# plt.title('Pearson Correlation of Features', y=1.05, size=15)\n",
    "# sns.heatmap(train_data.astype(float).corr(),linewidths=0.1,vmax=1.0, \n",
    "#             square=True, cmap=colormap, linecolor='white', annot=True)"
   ]
  },
  {
   "cell_type": "code",
   "execution_count": 37,
   "metadata": {},
   "outputs": [],
   "source": [
    "y_train = train_data['REVENUE'].ravel()\n",
    "train = train_data.drop(['REVENUE'], axis=1)\n",
    "x_train = train.values # Creates an array of the train data\n",
    "x_test = test_data.values # Creats an array of the test data"
   ]
  },
  {
   "cell_type": "code",
   "execution_count": 49,
   "metadata": {},
   "outputs": [
    {
     "data": {
      "text/plain": [
       "array([21808652427, 16766330449, 19988838077, 30722991215, 41390345567,\n",
       "       40961902094, 50266797992, 74795294306])"
      ]
     },
     "execution_count": 49,
     "metadata": {},
     "output_type": "execute_result"
    }
   ],
   "source": [
    "y_train.astype('int')"
   ]
  },
  {
   "cell_type": "code",
   "execution_count": 16,
   "metadata": {},
   "outputs": [],
   "source": [
    "def get_oof(clf, x_train, y_train, x_test):\n",
    "    oof_train = np.zeros((ntrain,))\n",
    "    oof_test = np.zeros((ntest,))\n",
    "    oof_test_skf = np.empty((NFOLDS, ntest))\n",
    "\n",
    "    for i, (train_index, test_index) in enumerate(kf):\n",
    "        x_tr = x_train[train_index]\n",
    "        y_tr = y_train[train_index]\n",
    "        x_te = x_train[test_index]\n",
    "\n",
    "        clf.train(x_tr, y_tr)\n",
    "\n",
    "        oof_train[test_index] = clf.predict(x_te)\n",
    "        oof_test_skf[i, :] = clf.predict(x_test)\n",
    "\n",
    "    oof_test[:] = oof_test_skf.mean(axis=0)\n",
    "    return oof_train.reshape(-1, 1), oof_test.reshape(-1, 1)"
   ]
  },
  {
   "cell_type": "code",
   "execution_count": 53,
   "metadata": {},
   "outputs": [],
   "source": [
    "# Some useful parameters which will come in handy later on\n",
    "ntrain = train_data.shape[0]\n",
    "ntest = test_data.shape[0]\n",
    "SEED = 0 # for reproducibility\n",
    "NFOLDS = 4 # set folds for out-of-fold prediction\n",
    "kf = KFold(ntrain, n_folds= NFOLDS, random_state=SEED)\n",
    "\n",
    "# Class to extend the Sklearn classifier\n",
    "class SklearnHelper(object):\n",
    "    def __init__(self, clf, seed=0, params=None):\n",
    "        params['random_state'] = seed\n",
    "        self.clf = clf(**params)\n",
    "\n",
    "    def train(self, x_train, y_train):\n",
    "        self.clf.fit(x_train, y_train.astype('int'))\n",
    "\n",
    "    def predict(self, x):\n",
    "        return self.clf.predict(x)\n",
    "    \n",
    "    def fit(self,x,y):\n",
    "        return self.clf.fit(x,y)\n",
    "    \n",
    "    def feature_importances(self,x,y):\n",
    "        print(self.clf.fit(x,y).feature_importances_)"
   ]
  },
  {
   "cell_type": "code",
   "execution_count": 20,
   "metadata": {},
   "outputs": [],
   "source": [
    "# Put in our parameters for said classifiers\n",
    "# Random Forest parameters\n",
    "rf_params = {\n",
    "    'n_jobs': -1,\n",
    "    'n_estimators': 500,\n",
    "     'warm_start': True, \n",
    "     #'max_features': 0.2,\n",
    "    'max_depth': 6,\n",
    "    'min_samples_leaf': 2,\n",
    "    'max_features' : 'sqrt',\n",
    "    'verbose': 0\n",
    "}\n",
    "\n",
    "# Extra Trees Parameters\n",
    "et_params = {\n",
    "    'n_jobs': -1,\n",
    "    'n_estimators':500,\n",
    "    #'max_features': 0.5,\n",
    "    'max_depth': 8,\n",
    "    'min_samples_leaf': 2,\n",
    "    'verbose': 0\n",
    "}\n",
    "\n",
    "# AdaBoost parameters\n",
    "ada_params = {\n",
    "    'n_estimators': 500,\n",
    "    'learning_rate' : 0.75\n",
    "}\n",
    "\n",
    "# Gradient Boosting parameters\n",
    "gb_params = {\n",
    "    'n_estimators': 500,\n",
    "     #'max_features': 0.2,\n",
    "    'max_depth': 5,\n",
    "    'min_samples_leaf': 2,\n",
    "    'verbose': 0\n",
    "}\n",
    "\n",
    "# Support Vector Classifier parameters \n",
    "svc_params = {\n",
    "    'kernel' : 'linear',\n",
    "    'C' : 0.025\n",
    "    }"
   ]
  },
  {
   "cell_type": "code",
   "execution_count": 57,
   "metadata": {},
   "outputs": [],
   "source": [
    "# Create 5 objects that represent our 4 models\n",
    "rf = SklearnHelper(clf=RandomForestClassifier, seed=SEED, params=rf_params)\n",
    "et = SklearnHelper(clf=ExtraTreesClassifier, seed=SEED, params=et_params)\n",
    "ada = SklearnHelper(clf=AdaBoostClassifier, seed=SEED, params=ada_params)\n",
    "gb = SklearnHelper(clf=GradientBoostingClassifier, seed=SEED, params=gb_params)\n",
    "svc = SklearnHelper(clf=SVC, seed=SEED, params=svc_params)"
   ]
  },
  {
   "cell_type": "code",
   "execution_count": 58,
   "metadata": {},
   "outputs": [],
   "source": [
    "# Create our OOF train and test predictions. These base results will be used as new features\n",
    "et_oof_train, et_oof_test = get_oof(et, x_train, y_train, x_test) # Extra Trees\n",
    "rf_oof_train, rf_oof_test = get_oof(rf,x_train, y_train, x_test) # Random Forest\n",
    "ada_oof_train, ada_oof_test = get_oof(ada, x_train, y_train, x_test) # AdaBoost \n",
    "gb_oof_train, gb_oof_test = get_oof(gb,x_train, y_train, x_test) # Gradient Boost\n",
    "svc_oof_train, svc_oof_test = get_oof(svc,x_train, y_train, x_test) # Support Vector Classifier"
   ]
  },
  {
   "cell_type": "code",
   "execution_count": 60,
   "metadata": {},
   "outputs": [
    {
     "name": "stdout",
     "output_type": "stream",
     "text": [
      "[0.077 0.086 0.074 0.095 0.098 0.069 0.073 0.081 0.105]\n",
      "[0.08033333 0.12666667 0.10933333 0.05566667 0.077      0.117\n",
      " 0.12033333 0.13366667 0.118     ]\n",
      "[0.048 0.314 0.112 0.14  0.106 0.062 0.076 0.064 0.078]\n",
      "[0.01820363 0.06478902 0.01753671 0.02239344 0.02153682 0.01149377\n",
      " 0.01144917 0.01151205 0.0143354 ]\n"
     ]
    }
   ],
   "source": [
    "rf_feature = rf.feature_importances(x_train,y_train.astype('int'))\n",
    "et_feature = et.feature_importances(x_train, y_train.astype('int'))\n",
    "ada_feature = ada.feature_importances(x_train, y_train.astype('int'))\n",
    "gb_feature = gb.feature_importances(x_train,y_train.astype('int'))"
   ]
  },
  {
   "cell_type": "code",
   "execution_count": 62,
   "metadata": {},
   "outputs": [],
   "source": [
    "rf_features = [0.077, 0.086, 0.074, 0.095, 0.098, 0.069, 0.073, 0.081, 0.105]\n",
    "et_features = [0.08033333, 0.12666667, 0.10933333, 0.05566667, 0.077,      0.117,\n",
    " 0.12033333, 0.13366667, 0.118     ]\n",
    "ada_features = [0.048, 0.314, 0.112, 0.14,  0.106, 0.062, 0.076, 0.064, 0.078]\n",
    "gb_features = [0.01820363, 0.06478902, 0.01753671, 0.02239344, 0.02153682, 0.01149377,\n",
    " 0.01144917, 0.01151205, 0.0143354 ]"
   ]
  },
  {
   "cell_type": "code",
   "execution_count": 63,
   "metadata": {},
   "outputs": [],
   "source": [
    "cols = train.columns.values\n",
    "# Create a dataframe with features\n",
    "feature_dataframe = pd.DataFrame( {'features': cols,\n",
    "     'Random Forest feature importances': rf_features,\n",
    "     'Extra Trees  feature importances': et_features,\n",
    "      'AdaBoost feature importances': ada_features,\n",
    "    'Gradient Boost feature importances': gb_features\n",
    "    })"
   ]
  },
  {
   "cell_type": "code",
   "execution_count": 64,
   "metadata": {},
   "outputs": [
    {
     "data": {
      "text/html": [
       "<div>\n",
       "<style scoped>\n",
       "    .dataframe tbody tr th:only-of-type {\n",
       "        vertical-align: middle;\n",
       "    }\n",
       "\n",
       "    .dataframe tbody tr th {\n",
       "        vertical-align: top;\n",
       "    }\n",
       "\n",
       "    .dataframe thead th {\n",
       "        text-align: right;\n",
       "    }\n",
       "</style>\n",
       "<table border=\"1\" class=\"dataframe\">\n",
       "  <thead>\n",
       "    <tr style=\"text-align: right;\">\n",
       "      <th></th>\n",
       "      <th>features</th>\n",
       "      <th>Random Forest feature importances</th>\n",
       "      <th>Extra Trees  feature importances</th>\n",
       "      <th>AdaBoost feature importances</th>\n",
       "      <th>Gradient Boost feature importances</th>\n",
       "      <th>mean</th>\n",
       "    </tr>\n",
       "  </thead>\n",
       "  <tbody>\n",
       "    <tr>\n",
       "      <th>0</th>\n",
       "      <td>C_FR_SALE_G_S</td>\n",
       "      <td>0.077</td>\n",
       "      <td>0.080333</td>\n",
       "      <td>0.048</td>\n",
       "      <td>0.018204</td>\n",
       "      <td>0.055884</td>\n",
       "    </tr>\n",
       "    <tr>\n",
       "      <th>1</th>\n",
       "      <td>N_CHANGE_IN_CASH</td>\n",
       "      <td>0.086</td>\n",
       "      <td>0.126667</td>\n",
       "      <td>0.314</td>\n",
       "      <td>0.064789</td>\n",
       "      <td>0.147864</td>\n",
       "    </tr>\n",
       "    <tr>\n",
       "      <th>2</th>\n",
       "      <td>N_CE_BEG_BAL</td>\n",
       "      <td>0.074</td>\n",
       "      <td>0.109333</td>\n",
       "      <td>0.112</td>\n",
       "      <td>0.017537</td>\n",
       "      <td>0.078218</td>\n",
       "    </tr>\n",
       "  </tbody>\n",
       "</table>\n",
       "</div>"
      ],
      "text/plain": [
       "           features  Random Forest feature importances  \\\n",
       "0     C_FR_SALE_G_S                              0.077   \n",
       "1  N_CHANGE_IN_CASH                              0.086   \n",
       "2      N_CE_BEG_BAL                              0.074   \n",
       "\n",
       "   Extra Trees  feature importances  AdaBoost feature importances  \\\n",
       "0                          0.080333                         0.048   \n",
       "1                          0.126667                         0.314   \n",
       "2                          0.109333                         0.112   \n",
       "\n",
       "   Gradient Boost feature importances      mean  \n",
       "0                            0.018204  0.055884  \n",
       "1                            0.064789  0.147864  \n",
       "2                            0.017537  0.078218  "
      ]
     },
     "execution_count": 64,
     "metadata": {},
     "output_type": "execute_result"
    }
   ],
   "source": [
    "# Create the new column containing the average of values\n",
    "\n",
    "feature_dataframe['mean'] = feature_dataframe.mean(axis= 1) # axis = 1 computes the mean row-wise\n",
    "feature_dataframe.head(3)"
   ]
  },
  {
   "cell_type": "code",
   "execution_count": 65,
   "metadata": {},
   "outputs": [
    {
     "data": {
      "text/html": [
       "<div>\n",
       "<style scoped>\n",
       "    .dataframe tbody tr th:only-of-type {\n",
       "        vertical-align: middle;\n",
       "    }\n",
       "\n",
       "    .dataframe tbody tr th {\n",
       "        vertical-align: top;\n",
       "    }\n",
       "\n",
       "    .dataframe thead th {\n",
       "        text-align: right;\n",
       "    }\n",
       "</style>\n",
       "<table border=\"1\" class=\"dataframe\">\n",
       "  <thead>\n",
       "    <tr style=\"text-align: right;\">\n",
       "      <th></th>\n",
       "      <th>RandomForest</th>\n",
       "      <th>ExtraTrees</th>\n",
       "      <th>AdaBoost</th>\n",
       "      <th>GradientBoost</th>\n",
       "    </tr>\n",
       "  </thead>\n",
       "  <tbody>\n",
       "    <tr>\n",
       "      <th>0</th>\n",
       "      <td>1.998884e+10</td>\n",
       "      <td>1.998884e+10</td>\n",
       "      <td>4.139035e+10</td>\n",
       "      <td>1.998884e+10</td>\n",
       "    </tr>\n",
       "    <tr>\n",
       "      <th>1</th>\n",
       "      <td>1.998884e+10</td>\n",
       "      <td>1.998884e+10</td>\n",
       "      <td>4.139035e+10</td>\n",
       "      <td>1.998884e+10</td>\n",
       "    </tr>\n",
       "    <tr>\n",
       "      <th>2</th>\n",
       "      <td>1.676633e+10</td>\n",
       "      <td>2.180865e+10</td>\n",
       "      <td>4.096190e+10</td>\n",
       "      <td>2.180865e+10</td>\n",
       "    </tr>\n",
       "    <tr>\n",
       "      <th>3</th>\n",
       "      <td>2.180865e+10</td>\n",
       "      <td>2.180865e+10</td>\n",
       "      <td>4.096190e+10</td>\n",
       "      <td>7.479529e+10</td>\n",
       "    </tr>\n",
       "    <tr>\n",
       "      <th>4</th>\n",
       "      <td>3.072299e+10</td>\n",
       "      <td>5.026680e+10</td>\n",
       "      <td>1.998884e+10</td>\n",
       "      <td>5.026680e+10</td>\n",
       "    </tr>\n",
       "  </tbody>\n",
       "</table>\n",
       "</div>"
      ],
      "text/plain": [
       "   RandomForest    ExtraTrees      AdaBoost  GradientBoost\n",
       "0  1.998884e+10  1.998884e+10  4.139035e+10   1.998884e+10\n",
       "1  1.998884e+10  1.998884e+10  4.139035e+10   1.998884e+10\n",
       "2  1.676633e+10  2.180865e+10  4.096190e+10   2.180865e+10\n",
       "3  2.180865e+10  2.180865e+10  4.096190e+10   7.479529e+10\n",
       "4  3.072299e+10  5.026680e+10  1.998884e+10   5.026680e+10"
      ]
     },
     "execution_count": 65,
     "metadata": {},
     "output_type": "execute_result"
    }
   ],
   "source": [
    "base_predictions_train = pd.DataFrame( {'RandomForest': rf_oof_train.ravel(),\n",
    "     'ExtraTrees': et_oof_train.ravel(),\n",
    "     'AdaBoost': ada_oof_train.ravel(),\n",
    "      'GradientBoost': gb_oof_train.ravel()\n",
    "    })\n",
    "base_predictions_train.head()"
   ]
  },
  {
   "cell_type": "code",
   "execution_count": 67,
   "metadata": {},
   "outputs": [],
   "source": [
    "x_train = np.concatenate(( et_oof_train, rf_oof_train, ada_oof_train, gb_oof_train, svc_oof_train), axis=1)\n",
    "x_test = np.concatenate(( et_oof_test, rf_oof_test, ada_oof_test, gb_oof_test, svc_oof_test), axis=1)"
   ]
  },
  {
   "cell_type": "code",
   "execution_count": 68,
   "metadata": {},
   "outputs": [],
   "source": [
    "gbm = xgb.XGBClassifier(\n",
    "    #learning_rate = 0.02,\n",
    " n_estimators= 2000,\n",
    " max_depth= 4,\n",
    " min_child_weight= 2,\n",
    " #gamma=1,\n",
    " gamma=0.9,                        \n",
    " subsample=0.8,\n",
    " colsample_bytree=0.8,\n",
    " objective= 'binary:logistic',\n",
    " nthread= -1,\n",
    " scale_pos_weight=1).fit(x_train, y_train)\n",
    "predictions = gbm.predict(x_test)"
   ]
  },
  {
   "cell_type": "code",
   "execution_count": 69,
   "metadata": {},
   "outputs": [
    {
     "data": {
      "text/plain": [
       "array([1.67663304e+10])"
      ]
     },
     "execution_count": 69,
     "metadata": {},
     "output_type": "execute_result"
    }
   ],
   "source": [
    "predictions"
   ]
  },
  {
   "cell_type": "code",
   "execution_count": 71,
   "metadata": {},
   "outputs": [],
   "source": [
    "is_data = get_data('IncomeStatement-GeneralBusiness.csv',\n",
    "                  ['TICKER_SYMBOL', 'END_DATE', 'REPORT_TYPE', 'REVENUE'],\n",
    "                  '000002', 'S1').reset_index(drop=True)"
   ]
  },
  {
   "cell_type": "code",
   "execution_count": 72,
   "metadata": {},
   "outputs": [
    {
     "data": {
      "text/html": [
       "<div>\n",
       "<style scoped>\n",
       "    .dataframe tbody tr th:only-of-type {\n",
       "        vertical-align: middle;\n",
       "    }\n",
       "\n",
       "    .dataframe tbody tr th {\n",
       "        vertical-align: top;\n",
       "    }\n",
       "\n",
       "    .dataframe thead th {\n",
       "        text-align: right;\n",
       "    }\n",
       "</style>\n",
       "<table border=\"1\" class=\"dataframe\">\n",
       "  <thead>\n",
       "    <tr style=\"text-align: right;\">\n",
       "      <th></th>\n",
       "      <th>TICKER_SYMBOL</th>\n",
       "      <th>END_DATE</th>\n",
       "      <th>REPORT_TYPE</th>\n",
       "      <th>REVENUE</th>\n",
       "    </tr>\n",
       "  </thead>\n",
       "  <tbody>\n",
       "    <tr>\n",
       "      <th>0</th>\n",
       "      <td>000002</td>\n",
       "      <td>2008-06-30</td>\n",
       "      <td>S1</td>\n",
       "      <td>1.725501e+10</td>\n",
       "    </tr>\n",
       "    <tr>\n",
       "      <th>1</th>\n",
       "      <td>000002</td>\n",
       "      <td>2009-06-30</td>\n",
       "      <td>S1</td>\n",
       "      <td>2.180865e+10</td>\n",
       "    </tr>\n",
       "    <tr>\n",
       "      <th>2</th>\n",
       "      <td>000002</td>\n",
       "      <td>2010-06-30</td>\n",
       "      <td>S1</td>\n",
       "      <td>1.676633e+10</td>\n",
       "    </tr>\n",
       "    <tr>\n",
       "      <th>3</th>\n",
       "      <td>000002</td>\n",
       "      <td>2011-06-30</td>\n",
       "      <td>S1</td>\n",
       "      <td>1.998884e+10</td>\n",
       "    </tr>\n",
       "    <tr>\n",
       "      <th>4</th>\n",
       "      <td>000002</td>\n",
       "      <td>2012-06-30</td>\n",
       "      <td>S1</td>\n",
       "      <td>3.072299e+10</td>\n",
       "    </tr>\n",
       "    <tr>\n",
       "      <th>5</th>\n",
       "      <td>000002</td>\n",
       "      <td>2013-06-30</td>\n",
       "      <td>S1</td>\n",
       "      <td>4.139035e+10</td>\n",
       "    </tr>\n",
       "    <tr>\n",
       "      <th>6</th>\n",
       "      <td>000002</td>\n",
       "      <td>2014-06-30</td>\n",
       "      <td>S1</td>\n",
       "      <td>4.096190e+10</td>\n",
       "    </tr>\n",
       "    <tr>\n",
       "      <th>7</th>\n",
       "      <td>000002</td>\n",
       "      <td>2015-06-30</td>\n",
       "      <td>S1</td>\n",
       "      <td>5.026680e+10</td>\n",
       "    </tr>\n",
       "    <tr>\n",
       "      <th>8</th>\n",
       "      <td>000002</td>\n",
       "      <td>2016-06-30</td>\n",
       "      <td>S1</td>\n",
       "      <td>7.479529e+10</td>\n",
       "    </tr>\n",
       "    <tr>\n",
       "      <th>9</th>\n",
       "      <td>000002</td>\n",
       "      <td>2017-06-30</td>\n",
       "      <td>S1</td>\n",
       "      <td>6.981048e+10</td>\n",
       "    </tr>\n",
       "  </tbody>\n",
       "</table>\n",
       "</div>"
      ],
      "text/plain": [
       "  TICKER_SYMBOL   END_DATE REPORT_TYPE       REVENUE\n",
       "0        000002 2008-06-30          S1  1.725501e+10\n",
       "1        000002 2009-06-30          S1  2.180865e+10\n",
       "2        000002 2010-06-30          S1  1.676633e+10\n",
       "3        000002 2011-06-30          S1  1.998884e+10\n",
       "4        000002 2012-06-30          S1  3.072299e+10\n",
       "5        000002 2013-06-30          S1  4.139035e+10\n",
       "6        000002 2014-06-30          S1  4.096190e+10\n",
       "7        000002 2015-06-30          S1  5.026680e+10\n",
       "8        000002 2016-06-30          S1  7.479529e+10\n",
       "9        000002 2017-06-30          S1  6.981048e+10"
      ]
     },
     "execution_count": 72,
     "metadata": {},
     "output_type": "execute_result"
    }
   ],
   "source": [
    "is_data"
   ]
  }
 ],
 "metadata": {
  "kernelspec": {
   "display_name": "Python 3",
   "language": "python",
   "name": "python3"
  },
  "language_info": {
   "codemirror_mode": {
    "name": "ipython",
    "version": 3
   },
   "file_extension": ".py",
   "mimetype": "text/x-python",
   "name": "python",
   "nbconvert_exporter": "python",
   "pygments_lexer": "ipython3",
   "version": "3.6.5"
  }
 },
 "nbformat": 4,
 "nbformat_minor": 2
}
